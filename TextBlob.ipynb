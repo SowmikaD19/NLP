{
 "cells": [
  {
   "cell_type": "code",
   "execution_count": 1,
   "id": "0dc0df74",
   "metadata": {},
   "outputs": [
    {
     "name": "stdout",
     "output_type": "stream",
     "text": [
      "Collecting TextBlob\n",
      "  Downloading textblob-0.17.1-py2.py3-none-any.whl (636 kB)\n",
      "     -------------------------------------- 636.8/636.8 KB 1.8 MB/s eta 0:00:00\n",
      "Requirement already satisfied: nltk>=3.1 in d:\\anaconda\\lib\\site-packages (from TextBlob) (3.6.1)\n",
      "Requirement already satisfied: click in d:\\anaconda\\lib\\site-packages (from nltk>=3.1->TextBlob) (7.1.2)\n",
      "Requirement already satisfied: regex in d:\\anaconda\\lib\\site-packages (from nltk>=3.1->TextBlob) (2021.4.4)\n",
      "Requirement already satisfied: tqdm in d:\\anaconda\\lib\\site-packages (from nltk>=3.1->TextBlob) (4.59.0)\n",
      "Requirement already satisfied: joblib in d:\\anaconda\\lib\\site-packages (from nltk>=3.1->TextBlob) (1.0.1)\n",
      "Installing collected packages: TextBlob\n",
      "Successfully installed TextBlob-0.17.1\n",
      "Note: you may need to restart the kernel to use updated packages.\n"
     ]
    }
   ],
   "source": [
    "pip install TextBlob"
   ]
  },
  {
   "cell_type": "code",
   "execution_count": 4,
   "id": "ca854f7f",
   "metadata": {},
   "outputs": [],
   "source": [
    "import nltk\n",
    "  \n",
    "  "
   ]
  },
  {
   "cell_type": "code",
   "execution_count": 5,
   "id": "43819fa2",
   "metadata": {},
   "outputs": [
    {
     "name": "stderr",
     "output_type": "stream",
     "text": [
      "[nltk_data] Downloading package punkt to\n",
      "[nltk_data]     C:\\Users\\Administrator\\AppData\\Roaming\\nltk_data...\n",
      "[nltk_data]   Unzipping tokenizers\\punkt.zip.\n"
     ]
    },
    {
     "data": {
      "text/plain": [
       "True"
      ]
     },
     "execution_count": 5,
     "metadata": {},
     "output_type": "execute_result"
    }
   ],
   "source": [
    "nltk.download('punkt')"
   ]
  },
  {
   "cell_type": "code",
   "execution_count": 9,
   "id": "17ad30f7",
   "metadata": {},
   "outputs": [
    {
     "name": "stderr",
     "output_type": "stream",
     "text": [
      "[nltk_data] Downloading package averaged_perceptron_tagger to\n",
      "[nltk_data]     C:\\Users\\Administrator\\AppData\\Roaming\\nltk_data...\n",
      "[nltk_data]   Unzipping taggers\\averaged_perceptron_tagger.zip.\n"
     ]
    },
    {
     "data": {
      "text/plain": [
       "True"
      ]
     },
     "execution_count": 9,
     "metadata": {},
     "output_type": "execute_result"
    }
   ],
   "source": [
    "nltk.download('averaged_perceptron_tagger')"
   ]
  },
  {
   "cell_type": "code",
   "execution_count": 10,
   "id": "60337844",
   "metadata": {},
   "outputs": [],
   "source": [
    "from textblob import TextBlob"
   ]
  },
  {
   "cell_type": "code",
   "execution_count": 55,
   "id": "e21c5d92",
   "metadata": {},
   "outputs": [],
   "source": [
    "string= TextBlob(\"Naruto is a Japanese manga series written and illustrated by Masashi Kishimoto. It tells the story of Naruto Uzumaki, a young ninja who seeks recognition from his peers and dreams of becoming the Hokage, the leader of his village. The story is told in two parts – the first set in Naruto's pre-teen years, and the second in his teens. The series is based on two one-shot manga by Kishimoto: Karakuri (1995), which earned Kishimoto an honorable mention in Shueisha's monthly Hop Step Award the following year, and Naruto\")"
   ]
  },
  {
   "cell_type": "code",
   "execution_count": 12,
   "id": "a79ca93e",
   "metadata": {},
   "outputs": [
    {
     "data": {
      "text/plain": [
       "[('Naruto', 'NNP'),\n",
       " ('is', 'VBZ'),\n",
       " ('a', 'DT'),\n",
       " ('Japanese', 'JJ'),\n",
       " ('manga', 'JJ'),\n",
       " ('series', 'NN'),\n",
       " ('written', 'VBN'),\n",
       " ('and', 'CC'),\n",
       " ('illustrated', 'VBN'),\n",
       " ('by', 'IN'),\n",
       " ('Masashi', 'NNP'),\n",
       " ('Kishimoto', 'NNP'),\n",
       " ('It', 'PRP'),\n",
       " ('tells', 'VBZ'),\n",
       " ('the', 'DT'),\n",
       " ('story', 'NN'),\n",
       " ('of', 'IN'),\n",
       " ('Naruto', 'NNP'),\n",
       " ('Uzumaki', 'NNP'),\n",
       " ('a', 'DT'),\n",
       " ('young', 'JJ'),\n",
       " ('ninja', 'NN'),\n",
       " ('who', 'WP'),\n",
       " ('seeks', 'VBZ'),\n",
       " ('recognition', 'NN'),\n",
       " ('from', 'IN'),\n",
       " ('his', 'PRP$'),\n",
       " ('peers', 'NNS'),\n",
       " ('and', 'CC'),\n",
       " ('dreams', 'NNS'),\n",
       " ('of', 'IN'),\n",
       " ('becoming', 'VBG'),\n",
       " ('the', 'DT'),\n",
       " ('Hokage', 'NN'),\n",
       " ('the', 'DT'),\n",
       " ('leader', 'NN'),\n",
       " ('of', 'IN'),\n",
       " ('his', 'PRP$'),\n",
       " ('village', 'NN'),\n",
       " ('The', 'DT'),\n",
       " ('story', 'NN'),\n",
       " ('is', 'VBZ'),\n",
       " ('told', 'VBN'),\n",
       " ('in', 'IN'),\n",
       " ('two', 'CD'),\n",
       " ('parts', 'NNS'),\n",
       " ('–', 'VBD'),\n",
       " ('the', 'DT'),\n",
       " ('first', 'JJ'),\n",
       " ('set', 'NN'),\n",
       " ('in', 'IN'),\n",
       " ('Naruto', 'NNP'),\n",
       " (\"'s\", 'POS'),\n",
       " ('pre-teen', 'JJ'),\n",
       " ('years', 'NNS'),\n",
       " ('and', 'CC'),\n",
       " ('the', 'DT'),\n",
       " ('second', 'JJ'),\n",
       " ('in', 'IN'),\n",
       " ('his', 'PRP$'),\n",
       " ('teens', 'NNS'),\n",
       " ('The', 'DT'),\n",
       " ('series', 'NN'),\n",
       " ('is', 'VBZ'),\n",
       " ('based', 'VBN'),\n",
       " ('on', 'IN'),\n",
       " ('two', 'CD'),\n",
       " ('one-shot', 'JJ'),\n",
       " ('manga', 'NNS'),\n",
       " ('by', 'IN'),\n",
       " ('Kishimoto', 'NNP'),\n",
       " ('Karakuri', 'NNP'),\n",
       " ('1995', 'CD'),\n",
       " ('which', 'WDT'),\n",
       " ('earned', 'VBD'),\n",
       " ('Kishimoto', 'NNP'),\n",
       " ('an', 'DT'),\n",
       " ('honorable', 'JJ'),\n",
       " ('mention', 'NN'),\n",
       " ('in', 'IN'),\n",
       " ('Shueisha', 'NNP'),\n",
       " (\"'s\", 'POS'),\n",
       " ('monthly', 'JJ'),\n",
       " ('Hop', 'NNP'),\n",
       " ('Step', 'NNP'),\n",
       " ('Award', 'NNP'),\n",
       " ('the', 'DT'),\n",
       " ('following', 'JJ'),\n",
       " ('year', 'NN'),\n",
       " ('and', 'CC'),\n",
       " ('Naruto', 'NNP')]"
      ]
     },
     "execution_count": 12,
     "metadata": {},
     "output_type": "execute_result"
    }
   ],
   "source": [
    "string.tags"
   ]
  },
  {
   "cell_type": "code",
   "execution_count": 14,
   "id": "43ed21eb",
   "metadata": {},
   "outputs": [],
   "source": [
    "tokens_of_str=TextBlob(\"Naruto is a Japanese manga series written and illustrated by Masashi Kishimoto. It tells the story of Naruto Uzumaki, a young ninja who seeks recognition from his peers and dreams of becoming the Hokage, the leader of his village. The story is told in two parts – the first set in Naruto's pre-teen years, and the second in his teens. The series is based on two one-shot manga by Kishimoto: Karakuri (1995), which earned Kishimoto an honorable mention in Shueisha's monthly Hop Step Award the following year, and Naruto\")"
   ]
  },
  {
   "cell_type": "code",
   "execution_count": 15,
   "id": "38b23118",
   "metadata": {},
   "outputs": [
    {
     "data": {
      "text/plain": [
       "WordList(['Naruto', 'is', 'a', 'Japanese', 'manga', 'series', 'written', 'and', 'illustrated', 'by', 'Masashi', 'Kishimoto', 'It', 'tells', 'the', 'story', 'of', 'Naruto', 'Uzumaki', 'a', 'young', 'ninja', 'who', 'seeks', 'recognition', 'from', 'his', 'peers', 'and', 'dreams', 'of', 'becoming', 'the', 'Hokage', 'the', 'leader', 'of', 'his', 'village', 'The', 'story', 'is', 'told', 'in', 'two', 'parts', '–', 'the', 'first', 'set', 'in', 'Naruto', \"'s\", 'pre-teen', 'years', 'and', 'the', 'second', 'in', 'his', 'teens', 'The', 'series', 'is', 'based', 'on', 'two', 'one-shot', 'manga', 'by', 'Kishimoto', 'Karakuri', '1995', 'which', 'earned', 'Kishimoto', 'an', 'honorable', 'mention', 'in', 'Shueisha', \"'s\", 'monthly', 'Hop', 'Step', 'Award', 'the', 'following', 'year', 'and', 'Naruto'])"
      ]
     },
     "execution_count": 15,
     "metadata": {},
     "output_type": "execute_result"
    }
   ],
   "source": [
    "tokens_of_str.words"
   ]
  },
  {
   "cell_type": "code",
   "execution_count": 16,
   "id": "b7d962d4",
   "metadata": {},
   "outputs": [
    {
     "data": {
      "text/plain": [
       "[Sentence(\"Naruto is a Japanese manga series written and illustrated by Masashi Kishimoto.\"),\n",
       " Sentence(\"It tells the story of Naruto Uzumaki, a young ninja who seeks recognition from his peers and dreams of becoming the Hokage, the leader of his village.\"),\n",
       " Sentence(\"The story is told in two parts – the first set in Naruto's pre-teen years, and the second in his teens.\"),\n",
       " Sentence(\"The series is based on two one-shot manga by Kishimoto: Karakuri (1995), which earned Kishimoto an honorable mention in Shueisha's monthly Hop Step Award the following year, and Naruto\")]"
      ]
     },
     "execution_count": 16,
     "metadata": {},
     "output_type": "execute_result"
    }
   ],
   "source": [
    "tokens_of_str.sentences"
   ]
  },
  {
   "cell_type": "code",
   "execution_count": 19,
   "id": "90a826c8",
   "metadata": {},
   "outputs": [
    {
     "data": {
      "text/plain": [
       "'Naruto'"
      ]
     },
     "execution_count": 19,
     "metadata": {},
     "output_type": "execute_result"
    }
   ],
   "source": [
    "tokens_of_str.words[0]"
   ]
  },
  {
   "cell_type": "code",
   "execution_count": 21,
   "id": "63be33fb",
   "metadata": {},
   "outputs": [],
   "source": [
    "from textblob import Word"
   ]
  },
  {
   "cell_type": "code",
   "execution_count": 26,
   "id": "ea65c0d2",
   "metadata": {},
   "outputs": [
    {
     "name": "stderr",
     "output_type": "stream",
     "text": [
      "[nltk_data] Downloading package wordnet to\n",
      "[nltk_data]     C:\\Users\\Administrator\\AppData\\Roaming\\nltk_data...\n",
      "[nltk_data]   Unzipping corpora\\wordnet.zip.\n"
     ]
    },
    {
     "data": {
      "text/plain": [
       "True"
      ]
     },
     "execution_count": 26,
     "metadata": {},
     "output_type": "execute_result"
    }
   ],
   "source": [
    "nltk.download('wordnet')"
   ]
  },
  {
   "cell_type": "code",
   "execution_count": 37,
   "id": "1fbfd42e",
   "metadata": {},
   "outputs": [
    {
     "data": {
      "text/plain": [
       "'write'"
      ]
     },
     "execution_count": 37,
     "metadata": {},
     "output_type": "execute_result"
    }
   ],
   "source": [
    "a=Word(\"written\")\n",
    "a.lemmatize(\"v\")"
   ]
  },
  {
   "cell_type": "code",
   "execution_count": 41,
   "id": "b5135237",
   "metadata": {},
   "outputs": [
    {
     "name": "stdout",
     "output_type": "stream",
     "text": [
      "['the feeling that accompanies an experience of being thwarted in attaining your goals', \"an act of hindering someone's plans or efforts\", 'a feeling of annoyance at being hindered or criticized']\n"
     ]
    }
   ],
   "source": [
    "word = Word(\"frustration\")\n",
    "print(word.definitions)\n",
    "synonyms=set()"
   ]
  },
  {
   "cell_type": "code",
   "execution_count": 43,
   "id": "4121910b",
   "metadata": {},
   "outputs": [
    {
     "name": "stdout",
     "output_type": "stream",
     "text": [
      "{'frustration', 'thwarting', 'defeat', 'foiling'}\n"
     ]
    }
   ],
   "source": [
    "for synset in word.synsets:\n",
    "    for lemma in synset.lemmas():\n",
    "        synonyms.add(lemma.name())\n",
    "print(synonyms)"
   ]
  },
  {
   "cell_type": "code",
   "execution_count": 46,
   "id": "95e5c2e2",
   "metadata": {},
   "outputs": [
    {
     "data": {
      "text/plain": [
       "WordList(['chocolates', 'milkshakes', 'cakes'])"
      ]
     },
     "execution_count": 46,
     "metadata": {},
     "output_type": "execute_result"
    }
   ],
   "source": [
    "b=TextBlob(\"chocolate milkshake cake\")\n",
    "b.words\n",
    "b.words.pluralize()"
   ]
  },
  {
   "cell_type": "code",
   "execution_count": 51,
   "id": "abd44394",
   "metadata": {},
   "outputs": [
    {
     "name": "stdout",
     "output_type": "stream",
     "text": [
      "Japanese series\n"
     ]
    }
   ],
   "source": [
    "b=TextBlob(\"Japnese seres\")\n",
    "print(b.correct())"
   ]
  },
  {
   "cell_type": "code",
   "execution_count": 63,
   "id": "d3e05d0b",
   "metadata": {},
   "outputs": [
    {
     "data": {
      "text/plain": [
       "3"
      ]
     },
     "execution_count": 63,
     "metadata": {},
     "output_type": "execute_result"
    }
   ],
   "source": [
    "string=TextBlob(\"Naruto is a Japanese manga series written and illustrated by Masashi Kishimoto. It tells the story of Naruto Uzumaki, a young ninja who seeks recognition from his peers and dreams of becoming the Hokage, the leader of his village. The story is told in two parts – the first set in Naruto's pre-teen years, and the second in his teens. The series is based on two one-shot manga by Kishimoto: Karakuri (1995), which earned Kishimoto an honorable mention in Shueisha's monthly Hop Step Award the following year, and Naruto\")\n",
    "string.word_counts[\"his\"]"
   ]
  },
  {
   "cell_type": "code",
   "execution_count": 68,
   "id": "4af6f395",
   "metadata": {},
   "outputs": [
    {
     "data": {
      "text/plain": [
       "6"
      ]
     },
     "execution_count": 68,
     "metadata": {},
     "output_type": "execute_result"
    }
   ],
   "source": [
    "string2=TextBlob(\"Can you can a can as a Canner can Can a can\")\n",
    "string2.word_counts[\"can\"]\n"
   ]
  },
  {
   "cell_type": "code",
   "execution_count": 69,
   "id": "ecfcf283",
   "metadata": {},
   "outputs": [
    {
     "data": {
      "text/plain": [
       "4"
      ]
     },
     "execution_count": 69,
     "metadata": {},
     "output_type": "execute_result"
    }
   ],
   "source": [
    "string2.words.count(\"can\", case_sensitive=True)"
   ]
  },
  {
   "cell_type": "code",
   "execution_count": 58,
   "id": "35ddbd8c",
   "metadata": {},
   "outputs": [
    {
     "data": {
      "text/plain": [
       "WordList(['NARUTO', 'IS', 'A', 'JAPANESE', 'MANGA', 'SERIES', 'WRITTEN', 'AND', 'ILLUSTRATED', 'BY', 'MASASHI', 'KISHIMOTO', 'IT', 'TELLS', 'THE', 'STORY', 'OF', 'NARUTO', 'UZUMAKI', 'A', 'YOUNG', 'NINJA', 'WHO', 'SEEKS', 'RECOGNITION', 'FROM', 'HIS', 'PEERS', 'AND', 'DREAMS', 'OF', 'BECOMING', 'THE', 'HOKAGE', 'THE', 'LEADER', 'OF', 'HIS', 'VILLAGE', 'THE', 'STORY', 'IS', 'TOLD', 'IN', 'TWO', 'PARTS', '–', 'THE', 'FIRST', 'SET', 'IN', 'NARUTO', \"'S\", 'PRE-TEEN', 'YEARS', 'AND', 'THE', 'SECOND', 'IN', 'HIS', 'TEENS', 'THE', 'SERIES', 'IS', 'BASED', 'ON', 'TWO', 'ONE-SHOT', 'MANGA', 'BY', 'KISHIMOTO', 'KARAKURI', '1995', 'WHICH', 'EARNED', 'KISHIMOTO', 'AN', 'HONORABLE', 'MENTION', 'IN', 'SHUEISHA', \"'S\", 'MONTHLY', 'HOP', 'STEP', 'AWARD', 'THE', 'FOLLOWING', 'YEAR', 'AND', 'NARUTO'])"
      ]
     },
     "execution_count": 58,
     "metadata": {},
     "output_type": "execute_result"
    }
   ],
   "source": [
    "string.words.upper()"
   ]
  },
  {
   "cell_type": "code",
   "execution_count": 60,
   "id": "52242331",
   "metadata": {},
   "outputs": [
    {
     "data": {
      "text/plain": [
       "[WordList(['Naruto']),\n",
       " WordList(['is']),\n",
       " WordList(['a']),\n",
       " WordList(['Japanese']),\n",
       " WordList(['manga']),\n",
       " WordList(['series'])]"
      ]
     },
     "execution_count": 60,
     "metadata": {},
     "output_type": "execute_result"
    }
   ],
   "source": [
    "b=TextBlob(\"Naruto is a Japanese manga series\")\n",
    "b.ngrams(n=1)"
   ]
  },
  {
   "cell_type": "code",
   "execution_count": 70,
   "id": "0d4e09f1",
   "metadata": {},
   "outputs": [
    {
     "name": "stdout",
     "output_type": "stream",
     "text": [
      "Sentiment(polarity=-0.35, subjectivity=0.6000000000000001)\n"
     ]
    }
   ],
   "source": [
    "t1=TextBlob(\"This series is not good\")\n",
    "print(t1.sentiment)"
   ]
  },
  {
   "cell_type": "code",
   "execution_count": 71,
   "id": "9b4a7bb8",
   "metadata": {},
   "outputs": [
    {
     "name": "stdout",
     "output_type": "stream",
     "text": [
      "Sentiment(polarity=-1.0, subjectivity=1.0)\n"
     ]
    }
   ],
   "source": [
    "t2=TextBlob(\"This series is worst\")\n",
    "print(t2.sentiment)"
   ]
  },
  {
   "cell_type": "code",
   "execution_count": 72,
   "id": "3b4832d4",
   "metadata": {},
   "outputs": [
    {
     "name": "stdout",
     "output_type": "stream",
     "text": [
      "Sentiment(polarity=1.0, subjectivity=1.0)\n"
     ]
    }
   ],
   "source": [
    "t2=TextBlob(\"This series is awesome\")\n",
    "print(t2.sentiment)"
   ]
  },
  {
   "cell_type": "code",
   "execution_count": 90,
   "id": "3649fbba",
   "metadata": {},
   "outputs": [
    {
     "name": "stdout",
     "output_type": "stream",
     "text": [
      "Sentiment(polarity=0.35, subjectivity=0.30000000000000004)\n"
     ]
    }
   ],
   "source": [
    "t3=TextBlob(\"Naruto is a Japanese manga series.This series is good\")\n",
    "print(t3.sentiment)"
   ]
  },
  {
   "cell_type": "code",
   "execution_count": null,
   "id": "3b81a2e6",
   "metadata": {},
   "outputs": [],
   "source": []
  }
 ],
 "metadata": {
  "kernelspec": {
   "display_name": "Python 3",
   "language": "python",
   "name": "python3"
  },
  "language_info": {
   "codemirror_mode": {
    "name": "ipython",
    "version": 3
   },
   "file_extension": ".py",
   "mimetype": "text/x-python",
   "name": "python",
   "nbconvert_exporter": "python",
   "pygments_lexer": "ipython3",
   "version": "3.8.8"
  }
 },
 "nbformat": 4,
 "nbformat_minor": 5
}
